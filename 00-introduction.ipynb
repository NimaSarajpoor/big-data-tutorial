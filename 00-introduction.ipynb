{
 "cells": [
  {
   "cell_type": "markdown",
   "id": "5fcccf27-5a2f-4af9-b091-7f759401ceca",
   "metadata": {
    "tags": []
   },
   "source": [
    "<div align=\"center\">\n",
    "    <img src=\"./images/banner.png\" width=\"75%\" />\n",
    "</div>"
   ]
  },
  {
   "cell_type": "markdown",
   "id": "3f98408a-6d87-43ad-b908-886a6f5b3225",
   "metadata": {},
   "source": [
    "# Welcome! 👋\n",
    "\n",
    "<!-- TODO: Add a motivating example -- Panel dashboard -->"
   ]
  },
  {
   "cell_type": "markdown",
   "id": "2b50c70e-01c0-423b-ae22-c5ffdf36a91d",
   "metadata": {},
   "source": [
    "## Instructors 🧑‍🏫\n",
    "\n",
    "### Dharhas Pothina\n",
    "\n",
    "Dharhas Pothina is the CTO at Quansight where he helps clients wrangle their data using the PyData stack. His background includes expertise in computational modeling, big data/high performance computing, visualization, and geospatial analysis. He has been part of the Holoviz (HvPlot) and Dask communities for over 10 years and has given many talks and workshops on distributed computing and big data visualization and actively leads large-scale data science projects at Quansight.\n",
    "\n",
    "### Pavithra Eswaramoorthy\n",
    "\n",
    "Pavithra Eswaramoorthy is a Developer Advocate at Quansight, and a part of the Bokeh core team. She also worked with the Dask community extensively at her previous role."
   ]
  },
  {
   "cell_type": "markdown",
   "id": "8023238b-2e4e-4bc7-8862-999fcc37d5ea",
   "metadata": {
    "tags": []
   },
   "source": [
    "## Setup instructions ⚙️\n",
    "\n",
    "You can use Nebari (JupterHub) hosted at [scipy.quansight.dev](https://http://scipy.quansight.dev/) to follow along with this tutorial.\n",
    "\n",
    "Follow [this participant's guide](https://docs.google.com/document/d/11YWMZKW6Y4tXnMs3Jekc1S7BQWTR6THZazDaq3WoNxw/edit?usp=sharing) to register & sign-in ([re-register](https://docs.google.com/document/d/11YWMZKW6Y4tXnMs3Jekc1S7BQWTR6THZazDaq3WoNxw/edit#heading=h.hnkrvwc31uri) if you used for a different tutorial), select the **Medium Instance** in the Server Options, and click on the \"Data of an Unusual Size\" card in the JupyterLab launcher to clone the materials.\n",
    "\n",
    "In the `tutorials/big-data-tutorial` folder that's created with all material, navigate to `00-introduction.ipynb`.\n",
    "\n",
    "The environment for this tutorial is `scipy-scipy-data-of-unusual-size`, and it is automatically selected for you. :)"
   ]
  },
  {
   "cell_type": "markdown",
   "id": "77d7102b-2c9a-4e17-9a47-5b4cd68282cc",
   "metadata": {},
   "source": [
    "## Exercises 💻\n",
    "\n",
    "There are sections that say: \"💻 Your turn\", these are some questions for you to solve. You can click on the collapsed cells with three dots to view the solution."
   ]
  },
  {
   "cell_type": "markdown",
   "id": "721ec173-cb1a-4b24-891e-0aea12d3d90f",
   "metadata": {},
   "source": [
    "## Support 🙋\n",
    "\n",
    "If you need help, raise your hand or paste a sticky note (if it's available) behind your laptop and we'll come over to assist you!"
   ]
  },
  {
   "cell_type": "markdown",
   "id": "534aff7e-5836-41e3-ba24-075f1fa1d8ee",
   "metadata": {},
   "source": [
    "---\n",
    "\n",
    "## Next →\n",
    "\n",
    "Let's start by [taking a look at our dataset](./01-analyze-with-pandas.ipynb)!"
   ]
  },
  {
   "cell_type": "code",
   "execution_count": null,
   "id": "a3c9b454-0faf-4375-ac4a-24e168460fcb",
   "metadata": {},
   "outputs": [],
   "source": []
  }
 ],
 "metadata": {
  "kernelspec": {
   "display_name": "scipy-scipy-data-of-unusual-size",
   "language": "python",
   "name": "conda-env-scipy-scipy-data-of-unusual-size-py"
  },
  "language_info": {
   "codemirror_mode": {
    "name": "ipython",
    "version": 3
   },
   "file_extension": ".py",
   "mimetype": "text/x-python",
   "name": "python",
   "nbconvert_exporter": "python",
   "pygments_lexer": "ipython3",
   "version": "3.10.14"
  }
 },
 "nbformat": 4,
 "nbformat_minor": 5
}
